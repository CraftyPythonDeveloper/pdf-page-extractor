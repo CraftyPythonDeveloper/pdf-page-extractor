{
 "cells": [
  {
   "cell_type": "code",
   "execution_count": 20,
   "id": "f8f4f20b-eb08-4f92-a938-7d5e504ef4af",
   "metadata": {},
   "outputs": [],
   "source": [
    "import os\n",
    "from PyPDF2 import PdfReader, PdfWriter \n",
    "\n",
    "\n",
    "def extract_pdf_pages(pdf_filepath, page_nos: list) -> str:\n",
    "    \"\"\"\n",
    "    Use this function to extract the required pages from pdf and create a new pdf.\n",
    "    The new pdf would be saved in Contact-Information folder with prefix Contact-Information- in pdf filename\n",
    "    Paramteres:\n",
    "        pdf_filepath: str = The filepath of main pdf file which needs to be used to extract the pdf pages.\n",
    "        page_nos: list = list of page numbers that needs to be extracted. e.g. [37,38]     \n",
    "    \"\"\"\n",
    "    output_filename = f\"Contact-Information-{os.path.basename(pdf_filepath)}\"\n",
    "    output_filepath = os.path.join(\"Contact-Information\", output_filename)\n",
    "    writer = PdfWriter()\n",
    "    with open(pdf_filepath, 'rb') as infile:\n",
    "        reader = PdfReader(infile)\n",
    "        for page in page_nos:\n",
    "            writer.add_page(reader.pages[page])\n",
    "\n",
    "        with open(output_filepath, 'wb') as outfile:\n",
    "            writer.write(outfile)\n",
    "            \n",
    "    print(f\"Extracted {page_nos} pages from {os.path.basename(pdf_filepath)} file, and saved to {output_filepath}\")\n",
    "    return output_filepath\n",
    "\n",
    "\n",
    "def delete_pdf_pages(pdf_filepath, page_nos: list) -> str:\n",
    "    \"\"\"\n",
    "    Use this function to delete the not required pages from pdf and create a new pdf.\n",
    "    The new pdf would be saved in Consent-Signature folder with prefix Contact-Information- in pdf filename\n",
    "    Paramteres:\n",
    "        pdf_filepath: str = The filepath of main pdf file which needs to be used to delete the pdf pages.\n",
    "        page_nos: list = list of page numbers that needs to be deleted. e.g. [37,38]     \n",
    "    \"\"\"\n",
    "    output_filename = f\"Consent-Signature-{os.path.basename(pdf_filepath)}\"\n",
    "    output_filepath = os.path.join(\"Consent-Signature\", output_filename)\n",
    "    writer = PdfWriter()\n",
    "    with open(pdf_filepath, 'rb') as infile:\n",
    "        reader = PdfReader(infile)\n",
    "        for page in range(len(reader.pages)):\n",
    "            if page in page_nos:\n",
    "                continue\n",
    "            writer.add_page(reader.pages[page])\n",
    "\n",
    "        with open(output_filepath, 'wb') as outfile:\n",
    "            writer.write(outfile)\n",
    "\n",
    "    print(f\"Deleted {page_nos} pages from {os.path.basename(pdf_filepath)} file, and saved to {output_filepath}\")\n",
    "    return output_filepath"
   ]
  },
  {
   "cell_type": "markdown",
   "id": "a7753f4d-cbbe-4899-99ef-c3237e3ba32a",
   "metadata": {},
   "source": [
    "####"
   ]
  },
  {
   "cell_type": "code",
   "execution_count": null,
   "id": "7f451280-00c9-47f1-8e63-7cc05303cc67",
   "metadata": {},
   "outputs": [],
   "source": [
    "input_pdf_folder = \"input_pdfs\"\n",
    "extract_page_nos = [37, 38]\n",
    "delete_page_nos = [37, 38]\n",
    "\n",
    "if not os.path.exists(\"Consent-Signature\"):\n",
    "    os.mkdir(\"Consent-Signature\")\n",
    "\n",
    "if not os.path.exists(\"Contact-Information\"):\n",
    "    os.mkdir(\"Contact-Information\")\n",
    "\n",
    "for input_file in os.listdir(input_pdf_folder):\n",
    "    input_filepath = os.path.join(input_pdf_folder, input_file)\n",
    "    try:\n",
    "        extract_pdf_pages(pdf_filepath=input_filepath, page_nos=extract_page_nos)\n",
    "        delete_pdf_pages(pdf_filepath=input_filepath, page_nos=delete_page_nos)\n",
    "        print(\"\\n\")\n",
    "    except Exception as e:\n",
    "        print(str(e))\n"
   ]
  },
  {
   "cell_type": "code",
   "execution_count": null,
   "id": "46e1779f-f90d-42a9-8033-d00dd071d9bf",
   "metadata": {},
   "outputs": [],
   "source": []
  }
 ],
 "metadata": {
  "kernelspec": {
   "display_name": "Python 3 (ipykernel)",
   "language": "python",
   "name": "python3"
  },
  "language_info": {
   "codemirror_mode": {
    "name": "ipython",
    "version": 3
   },
   "file_extension": ".py",
   "mimetype": "text/x-python",
   "name": "python",
   "nbconvert_exporter": "python",
   "pygments_lexer": "ipython3",
   "version": "3.11.9"
  }
 },
 "nbformat": 4,
 "nbformat_minor": 5
}
